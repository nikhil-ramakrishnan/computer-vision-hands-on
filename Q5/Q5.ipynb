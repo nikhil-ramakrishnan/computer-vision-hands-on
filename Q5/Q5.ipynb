{
 "cells": [
  {
   "cell_type": "markdown",
   "id": "5319034d",
   "metadata": {},
   "source": [
    "### Import Packages"
   ]
  },
  {
   "cell_type": "code",
   "execution_count": 1,
   "id": "e23dbc5d",
   "metadata": {},
   "outputs": [],
   "source": [
    "import cv2\n",
    "import cvzone\n",
    "import numpy as np\n",
    "from cvzone.SelfiSegmentationModule import SelfiSegmentation"
   ]
  },
  {
   "cell_type": "markdown",
   "id": "02a68103",
   "metadata": {},
   "source": [
    "### Import video "
   ]
  },
  {
   "cell_type": "markdown",
   "id": "48e1e7f6",
   "metadata": {},
   "source": [
    "#### To get video directly from lap Cam"
   ]
  },
  {
   "cell_type": "code",
   "execution_count": 2,
   "id": "e25f0190",
   "metadata": {},
   "outputs": [
    {
     "data": {
      "text/plain": [
       "True"
      ]
     },
     "execution_count": 2,
     "metadata": {},
     "output_type": "execute_result"
    }
   ],
   "source": [
    "vid=cv2.VideoCapture(0)\n",
    "vid.set(3,640)#width\n",
    "vid.set(4,480)#height\n",
    "\n"
   ]
  },
  {
   "cell_type": "code",
   "execution_count": 3,
   "id": "f19c6a3f",
   "metadata": {},
   "outputs": [],
   "source": [
    "#To input a video\n",
    "#vid = cv2.VideoCapture(\"video.mp4\")\n",
    "# Readjust background according to size of uploades video"
   ]
  },
  {
   "cell_type": "markdown",
   "id": "20fa5e66",
   "metadata": {},
   "source": [
    "### Import Background Image"
   ]
  },
  {
   "cell_type": "code",
   "execution_count": 7,
   "id": "19032ad7",
   "metadata": {},
   "outputs": [],
   "source": [
    "bg_img=cv2.imread(\"./dataset/img.jpg\")\n",
    "bg_img = cv2.resize(bg_img, (640, 480))"
   ]
  },
  {
   "cell_type": "markdown",
   "id": "0bd284b5",
   "metadata": {},
   "source": [
    "### Remove Background of video"
   ]
  },
  {
   "cell_type": "code",
   "execution_count": 8,
   "id": "094e90b6",
   "metadata": {},
   "outputs": [],
   "source": [
    "seg = SelfiSegmentation()\n",
    "\n",
    "while True:\n",
    "    _, video = vid.read()\n",
    "    \n",
    "    if video is None:\n",
    "        break\n",
    "        \n",
    "    vid_rmbg = seg.removeBG(video, bg_img, threshold=0.4)\n",
    "    cv2.imshow(\"Video\", vid_rmbg)\n",
    "    \n",
    "    if cv2.waitKey(1) == ord(\"x\"):\n",
    "        break\n",
    "\n",
    "vid.release()\n",
    "cv2.destroyAllWindows()"
   ]
  },
  {
   "cell_type": "markdown",
   "id": "fc580452",
   "metadata": {},
   "source": [
    "### Optical flow"
   ]
  },
  {
   "cell_type": "markdown",
   "id": "b4f838f2",
   "metadata": {},
   "source": [
    "#### Open video capture"
   ]
  },
  {
   "cell_type": "code",
   "execution_count": 9,
   "id": "fb5e9caa",
   "metadata": {},
   "outputs": [],
   "source": [
    "cap = cv2.VideoCapture(\"./dataset/video.mp4\")"
   ]
  },
  {
   "cell_type": "markdown",
   "id": "bfa1cbe8",
   "metadata": {},
   "source": [
    "#### Get first frame and convert to grayscale\n"
   ]
  },
  {
   "cell_type": "code",
   "execution_count": 10,
   "id": "1d21369c",
   "metadata": {},
   "outputs": [],
   "source": [
    "ret, prev_frame = cap.read()\n",
    "prev_gray = cv2.cvtColor(prev_frame, cv2.COLOR_BGR2GRAY)# Color img to gray scale img\n"
   ]
  },
  {
   "cell_type": "markdown",
   "id": "6d1d7782",
   "metadata": {},
   "source": [
    "#### Create HSV output image\n"
   ]
  },
  {
   "cell_type": "code",
   "execution_count": 11,
   "id": "d039dbc8",
   "metadata": {
    "scrolled": true
   },
   "outputs": [
    {
     "data": {
      "text/plain": [
       "array([[[  0, 255,   0],\n",
       "        [  0, 255,   0],\n",
       "        [  0, 255,   0],\n",
       "        ...,\n",
       "        [  0, 255,   0],\n",
       "        [  0, 255,   0],\n",
       "        [  0, 255,   0]],\n",
       "\n",
       "       [[  0, 255,   0],\n",
       "        [  0, 255,   0],\n",
       "        [  0, 255,   0],\n",
       "        ...,\n",
       "        [  0, 255,   0],\n",
       "        [  0, 255,   0],\n",
       "        [  0, 255,   0]],\n",
       "\n",
       "       [[  0, 255,   0],\n",
       "        [  0, 255,   0],\n",
       "        [  0, 255,   0],\n",
       "        ...,\n",
       "        [  0, 255,   0],\n",
       "        [  0, 255,   0],\n",
       "        [  0, 255,   0]],\n",
       "\n",
       "       ...,\n",
       "\n",
       "       [[  0, 255,   0],\n",
       "        [  0, 255,   0],\n",
       "        [  0, 255,   0],\n",
       "        ...,\n",
       "        [  0, 255,   0],\n",
       "        [  0, 255,   0],\n",
       "        [  0, 255,   0]],\n",
       "\n",
       "       [[  0, 255,   0],\n",
       "        [  0, 255,   0],\n",
       "        [  0, 255,   0],\n",
       "        ...,\n",
       "        [  0, 255,   0],\n",
       "        [  0, 255,   0],\n",
       "        [  0, 255,   0]],\n",
       "\n",
       "       [[  0, 255,   0],\n",
       "        [  0, 255,   0],\n",
       "        [  0, 255,   0],\n",
       "        ...,\n",
       "        [  0, 255,   0],\n",
       "        [  0, 255,   0],\n",
       "        [  0, 255,   0]]], dtype=uint8)"
      ]
     },
     "execution_count": 11,
     "metadata": {},
     "output_type": "execute_result"
    }
   ],
   "source": [
    "hsv = np.zeros_like(prev_frame) #same shape as the prev_frame image, but with all elements initialized to zero\n",
    "hsv[:,:,1] = 255 #Saturation second channel set to maximum\n",
    "hsv"
   ]
  },
  {
   "cell_type": "markdown",
   "id": "0787d786",
   "metadata": {},
   "source": [
    "#### Looping through each Frame"
   ]
  },
  {
   "cell_type": "code",
   "execution_count": 12,
   "id": "021a9dfb",
   "metadata": {},
   "outputs": [],
   "source": [
    "while True:\n",
    "    # Captur the new frame and convert to grayscale\n",
    "    ret, frame = cap.read()\n",
    "    gray = cv2.cvtColor(frame, cv2.COLOR_BGR2GRAY)\n",
    "    \n",
    "    # Calculate the optical flow using Farneback algorithm\n",
    "    flow = cv2.calcOpticalFlowFarneback(prev_gray, gray, None, 0.5, 3, 15, 3, 5, 1.2, 0)\n",
    "    \n",
    "    # Convert flow to polar coordinates\n",
    "    magnitude, angle = cv2.cartToPolar(flow[..., 0], flow[..., 1])\n",
    "    hsv[:,:,0] = angle * 180 / np.pi / 2 # First channel containing angle\n",
    "    hsv[:,:,2] = cv2.normalize(magnitude, None, 0, 255, cv2.NORM_MINMAX) # Third channel containing normalized magnitude values\n",
    "    rgb = cv2.cvtColor(cv2.merge([hsv[:,:,0], hsv[:,:,1], hsv[:,:,2]]), cv2.COLOR_HSV2BGR)# Merged back into BGR \n",
    "    \n",
    "    # Display the resulting flow as a colored image\n",
    "    cv2.imshow('Optical Flow', rgb)\n",
    "    \n",
    "    # Exit if 'q' is pressed\n",
    "    if cv2.waitKey(1) & 0xFF == ord('q'):\n",
    "        break\n",
    "    \n",
    "    # Update previous frame\n",
    "    prev_gray = gray\n",
    "\n",
    "# Release video capture and close window\n",
    "cap.release()\n",
    "cv2.destroyAllWindows()\n"
   ]
  },
  {
   "cell_type": "code",
   "execution_count": null,
   "id": "445c9576",
   "metadata": {},
   "outputs": [],
   "source": []
  }
 ],
 "metadata": {
  "kernelspec": {
   "display_name": "Python 3 (ipykernel)",
   "language": "python",
   "name": "python3"
  },
  "language_info": {
   "codemirror_mode": {
    "name": "ipython",
    "version": 3
   },
   "file_extension": ".py",
   "mimetype": "text/x-python",
   "name": "python",
   "nbconvert_exporter": "python",
   "pygments_lexer": "ipython3",
   "version": "3.9.12"
  }
 },
 "nbformat": 4,
 "nbformat_minor": 5
}
